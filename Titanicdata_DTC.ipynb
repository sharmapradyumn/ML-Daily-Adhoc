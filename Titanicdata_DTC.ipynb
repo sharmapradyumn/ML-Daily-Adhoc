{
  "nbformat": 4,
  "nbformat_minor": 0,
  "metadata": {
    "colab": {
      "name": "Titanicdata_DTC.ipynb",
      "version": "0.3.2",
      "provenance": [],
      "collapsed_sections": [],
      "include_colab_link": true
    },
    "kernelspec": {
      "name": "python3",
      "display_name": "Python 3"
    }
  },
  "cells": [
    {
      "cell_type": "markdown",
      "metadata": {
        "id": "view-in-github",
        "colab_type": "text"
      },
      "source": [
        "<a href=\"https://colab.research.google.com/github/sharmapradyumn/ML-Daily-Adhoc/blob/SupervisedML/Titanicdata_DTC.ipynb\" target=\"_parent\"><img src=\"https://colab.research.google.com/assets/colab-badge.svg\" alt=\"Open In Colab\"/></a>"
      ]
    },
    {
      "cell_type": "code",
      "metadata": {
        "id": "APi1zENn9X0V",
        "colab_type": "code",
        "colab": {}
      },
      "source": [
        "from sklearn.model_selection import train_test_split\n",
        "from sklearn.tree import DecisionTreeClassifier\n",
        "import matplotlib.pyplot as plt\n",
        "from sklearn.metrics import accuracy_score\n",
        "import seaborn as sb\n",
        "import pandas as pd"
      ],
      "execution_count": 0,
      "outputs": []
    },
    {
      "cell_type": "code",
      "metadata": {
        "id": "FNJHQ64G9wxW",
        "colab_type": "code",
        "colab": {}
      },
      "source": [
        "# Reading csv file\n",
        "titanic=pd.read_csv(\"titanic.csv\")\n",
        "# Replacing Gender column having male with 0 and female with 1\n",
        "titanic.Sex[titanic.Sex == \"male\"] = 0  # Replacing male with 0\n",
        "titanic.Sex[titanic.Sex == \"female\"] = 1 # Replacing female with 1"
      ],
      "execution_count": 0,
      "outputs": []
    },
    {
      "cell_type": "code",
      "metadata": {
        "id": "VImtTmvRa765",
        "colab_type": "code",
        "colab": {}
      },
      "source": [
        "titanic"
      ],
      "execution_count": 0,
      "outputs": []
    },
    {
      "cell_type": "code",
      "metadata": {
        "id": "UDq2LDbn-wFu",
        "colab_type": "code",
        "colab": {}
      },
      "source": [
        "# Assigning Pclass,Sex,Age,Sibling and fare to features\n",
        "features=titanic.iloc[0:,[4,1,3]]\n",
        "# Assigning Survival rate to labels\n",
        "label=titanic.iloc[0:,0]"
      ],
      "execution_count": 0,
      "outputs": []
    },
    {
      "cell_type": "code",
      "metadata": {
        "id": "JsdhQiqvAubb",
        "colab_type": "code",
        "colab": {}
      },
      "source": [
        "# Splitting training and testing data\n",
        "train_data,test_data,train_label,test_label=train_test_split(features,label,test_size=0.1)"
      ],
      "execution_count": 0,
      "outputs": []
    },
    {
      "cell_type": "markdown",
      "metadata": {
        "id": "jgv5SATyCIKk",
        "colab_type": "text"
      },
      "source": [
        "# Using Decision Tree classifier"
      ]
    },
    {
      "cell_type": "code",
      "metadata": {
        "id": "4Nm_W4UTB2nM",
        "colab_type": "code",
        "colab": {}
      },
      "source": [
        "# Calling Decision Tree classifier\n",
        "DTC=DecisionTreeClassifier()"
      ],
      "execution_count": 0,
      "outputs": []
    },
    {
      "cell_type": "code",
      "metadata": {
        "id": "6LEO0JdbCQHv",
        "colab_type": "code",
        "colab": {}
      },
      "source": [
        "trained=DTC.fit(train_data,train_label)"
      ],
      "execution_count": 0,
      "outputs": []
    },
    {
      "cell_type": "code",
      "metadata": {
        "id": "MlR-e-VRCYt_",
        "colab_type": "code",
        "outputId": "4ad343d9-60f3-45e7-c7d4-e6263395c5e1",
        "colab": {
          "base_uri": "https://localhost:8080/",
          "height": 52
        }
      },
      "source": [
        "# Predicting test data\n",
        "predict=trained.predict(test_data)\n",
        "survived=0\n",
        "deaths=0\n",
        "# Counting no of deaths and survival rates\n",
        "for i in predict:\n",
        "  if i == 1:\n",
        "    survived+=1\n",
        "  else:\n",
        "    deaths+=1\n",
        "print(\"No. of persons survived:-\",survived)  \n",
        "print(\"No. of deaths:-\",deaths)"
      ],
      "execution_count": 0,
      "outputs": [
        {
          "output_type": "stream",
          "text": [
            "No. of persons survived:- 30\n",
            "No. of deaths:- 59\n"
          ],
          "name": "stdout"
        }
      ]
    },
    {
      "cell_type": "code",
      "metadata": {
        "id": "Jl3PhtXqGGaJ",
        "colab_type": "code",
        "outputId": "2cfd7673-b418-4744-a898-ac1e798e26ad",
        "colab": {
          "base_uri": "https://localhost:8080/",
          "height": 34
        }
      },
      "source": [
        "# Getting acuuracy score \n",
        "print(accuracy_score(predict,test_label)*100,\"%\")\n"
      ],
      "execution_count": 0,
      "outputs": [
        {
          "output_type": "stream",
          "text": [
            "82.02247191011236 %\n"
          ],
          "name": "stdout"
        }
      ]
    },
    {
      "cell_type": "markdown",
      "metadata": {
        "id": "oVxQZscopSNB",
        "colab_type": "text"
      },
      "source": [
        "# Plotting graphs b/w Passenger Class and survival rate"
      ]
    },
    {
      "cell_type": "code",
      "metadata": {
        "id": "xbBl44bxp7wK",
        "colab_type": "code",
        "outputId": "4a1695fb-3202-497c-a910-307096035752",
        "colab": {
          "base_uri": "https://localhost:8080/",
          "height": 300
        }
      },
      "source": [
        "sb.barplot(titanic[\"Pclass\"],titanic[\"Survived\"])"
      ],
      "execution_count": 0,
      "outputs": [
        {
          "output_type": "execute_result",
          "data": {
            "text/plain": [
              "<matplotlib.axes._subplots.AxesSubplot at 0x7f234dcda128>"
            ]
          },
          "metadata": {
            "tags": []
          },
          "execution_count": 88
        },
        {
          "output_type": "display_data",
          "data": {
            "image/png": "[encoded data removed]",
            "text/plain": [
              "<Figure size 432x288 with 1 Axes>"
            ]
          },
          "metadata": {
            "tags": []
          }
        }
      ]
    },
    {
      "cell_type": "code",
      "metadata": {
        "id": "fMmG5R8bNNZg",
        "colab_type": "code",
        "colab": {}
      },
      "source": [
        "\n"
      ],
      "execution_count": 0,
      "outputs": []
    },
    {
      "cell_type": "code",
      "metadata": {
        "id": "vk8hfJmNOjFx",
        "colab_type": "code",
        "colab": {}
      },
      "source": [
        ""
      ],
      "execution_count": 0,
      "outputs": []
    }
  ]
}