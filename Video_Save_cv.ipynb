{
 "cells": [
  {
   "cell_type": "code",
   "execution_count": null,
   "metadata": {},
   "outputs": [],
   "source": [
    "import  cv2\n",
    "#  staring  camera\n",
    "/cap=cv2.VideoCapture(0)\n",
    "#  adding  plugin  \n",
    "plugin=cv2.VideoWriter_fourcc(*'XVID') \n",
    "#   saving  video                            width , height  \n",
    "output=cv2.VideoWriter('class2.avi',plugin,6,(640,480))\n",
    "\n",
    "while  cap.isOpened() :\n",
    "    status,frame=cap.read()\n",
    "    cv2.imshow('live',frame)\n",
    "    #   draw  pattern \n",
    "    output.write(frame)   #  sending  data  to VideoWrite \n",
    "    if  cv2.waitKey(10)   &   0xff  ==  ord('q')  :\n",
    "        break\n",
    "cv2.destroyAllWindows()  #   this will destroy all windows \n",
    "cap.release()"
   ]
  },
  {
   "cell_type": "code",
   "execution_count": null,
   "metadata": {},
   "outputs": [],
   "source": []
  },
  {
   "cell_type": "code",
   "execution_count": null,
   "metadata": {},
   "outputs": [],
   "source": []
  }
 ],
 "metadata": {
  "kernelspec": {
   "display_name": "Python 3",
   "language": "python",
   "name": "python3"
  },
  "language_info": {
   "codemirror_mode": {
    "name": "ipython",
    "version": 3
   },
   "file_extension": ".py",
   "mimetype": "text/x-python",
   "name": "python",
   "nbconvert_exporter": "python",
   "pygments_lexer": "ipython3",
   "version": "3.7.2"
  }
 },
 "nbformat": 4,
 "nbformat_minor": 2
}
