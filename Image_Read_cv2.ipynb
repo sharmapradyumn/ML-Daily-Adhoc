{
 "cells": [
  {
   "cell_type": "code",
   "execution_count": 10,
   "metadata": {},
   "outputs": [],
   "source": [
    "import cv2 # import computer vision library \n",
    "import numpy as np\n",
    "#import matplotlib.pyplot as plt \n",
    "import sys   # import system library for take input from system"
   ]
  },
  {
   "cell_type": "code",
   "execution_count": 11,
   "metadata": {},
   "outputs": [],
   "source": [
    "# taking argv from sytem\n",
    "# data = sys.argv[]"
   ]
  },
  {
   "cell_type": "code",
   "execution_count": 12,
   "metadata": {},
   "outputs": [],
   "source": [
    "# reading the image \n",
    "\n",
    "img1=cv2.imread('dog.jpg',1) \n",
    "\n",
    "# here first argument in imread is image data and 2nd is flag(0,1,-1) for colors \n",
    "img2  = cv2.imread('dog1.jpg',0)\n"
   ]
  },
  {
   "cell_type": "code",
   "execution_count": 13,
   "metadata": {},
   "outputs": [
    {
     "name": "stdout",
     "output_type": "stream",
     "text": [
      "(275, 183, 3)\n"
     ]
    }
   ],
   "source": [
    "# print(img1)   its print image in array format\n",
    "print(img1.shape)   # height width and color chanel"
   ]
  },
  {
   "cell_type": "code",
   "execution_count": 14,
   "metadata": {},
   "outputs": [
    {
     "data": {
      "text/plain": [
       "13"
      ]
     },
     "execution_count": 14,
     "metadata": {},
     "output_type": "execute_result"
    }
   ],
   "source": [
    "# now showing the image using \" imshow\",\n",
    "\n",
    "#cv2.imshow('first',img1)\n",
    "\n",
    "cv2.imshow('second',img2)\n",
    "\n",
    "#cv2.imshow('first1',img1-50)   its substract 50 from BGR\n",
    "\n",
    "p =cv2.imshow('first2',img2[10:80,30:120])   # its show particular part of image\n",
    "\n",
    "cv2.imshow('first',img2/2)\n",
    "\n",
    "cv2.imwrite('newdog.jpg',p)   # save the image  that you want\n",
    "\n",
    "cv2.waitKey(0)"
   ]
  },
  {
   "cell_type": "code",
   "execution_count": null,
   "metadata": {},
   "outputs": [],
   "source": []
  },
  {
   "cell_type": "code",
   "execution_count": null,
   "metadata": {},
   "outputs": [],
   "source": []
  }
 ],
 "metadata": {
  "kernelspec": {
   "display_name": "Python 3",
   "language": "python",
   "name": "python3"
  },
  "language_info": {
   "codemirror_mode": {
    "name": "ipython",
    "version": 3
   },
   "file_extension": ".py",
   "mimetype": "text/x-python",
   "name": "python",
   "nbconvert_exporter": "python",
   "pygments_lexer": "ipython3",
   "version": "3.7.2"
  }
 },
 "nbformat": 4,
 "nbformat_minor": 2
}
